{
 "cells": [
  {
   "cell_type": "code",
   "execution_count": 2,
   "metadata": {},
   "outputs": [],
   "source": [
    "import pandas as pd\n",
    "from sklearn.preprocessing import StandardScaler\n",
    "from sklearn.metrics.pairwise import cosine_similarity"
   ]
  },
  {
   "cell_type": "code",
   "execution_count": 4,
   "metadata": {},
   "outputs": [],
   "source": [
    "customers_df = pd.read_csv(\"./Customers.csv\")\n",
    "transactions_df = pd.read_csv(\"./Transactions.csv\")"
   ]
  },
  {
   "cell_type": "code",
   "execution_count": 6,
   "metadata": {},
   "outputs": [],
   "source": [
    "transaction_aggregation = transactions_df.groupby('CustomerID').agg({\n",
    "    'TotalValue': 'sum',        \n",
    "    'TransactionID': 'count',   \n",
    "    'ProductID': 'nunique'     \n",
    "}).rename(columns={\n",
    "    'TotalValue': 'TotalSpending',\n",
    "    'TransactionID': 'TransactionCount',\n",
    "    'ProductID': 'UniqueProducts'\n",
    "}).reset_index()\n",
    "\n",
    "customer_profiles = customers_df.merge(transaction_aggregation, on='CustomerID', how='left')\n",
    "\n",
    "customer_profiles.fillna({'TotalSpending': 0, 'TransactionCount': 0, 'UniqueProducts': 0}, inplace=True)"
   ]
  },
  {
   "cell_type": "code",
   "execution_count": 10,
   "metadata": {},
   "outputs": [],
   "source": [
    "scaler = StandardScaler()\n",
    "numeric_features = ['TotalSpending', 'TransactionCount', 'UniqueProducts']\n",
    "customer_profiles[numeric_features] = scaler.fit_transform(customer_profiles[numeric_features])"
   ]
  },
  {
   "cell_type": "code",
   "execution_count": 11,
   "metadata": {},
   "outputs": [],
   "source": [
    "subset_profiles = customer_profiles[customer_profiles['CustomerID'].str.startswith('C00')][:20]\n",
    "\n",
    "similarities = cosine_similarity(subset_profiles[numeric_features])\n",
    "\n",
    "lookalikes = {}\n",
    "for idx, customer_id in enumerate(subset_profiles['CustomerID']):\n",
    "    similarity_scores = list(enumerate(similarities[idx]))\n",
    "    top_lookalikes = sorted(similarity_scores, key=lambda x: x[1], reverse=True)[1:4]\n",
    "    lookalikes[customer_id] = [(subset_profiles.iloc[i]['CustomerID'], score) for i, score in top_lookalikes]\n",
    "\n",
    "lookalike_data = [(customer_id, rec[0], rec[1]) for customer_id, recommendations in lookalikes.items() for rec in recommendations]\n",
    "lookalike_df = pd.DataFrame(lookalike_data, columns=[\"CustomerID\", \"RecommendedCustomerID\", \"SimilarityScore\"])"
   ]
  },
  {
   "cell_type": "code",
   "execution_count": 12,
   "metadata": {},
   "outputs": [
    {
     "data": {
      "text/plain": [
       "'./Lookalike.csv'"
      ]
     },
     "execution_count": 12,
     "metadata": {},
     "output_type": "execute_result"
    }
   ],
   "source": [
    "lookalike_csv_path = './Lookalike.csv'\n",
    "lookalike_df.to_csv(lookalike_csv_path, index=False)\n",
    "lookalike_csv_path"
   ]
  }
 ],
 "metadata": {
  "kernelspec": {
   "display_name": "base",
   "language": "python",
   "name": "python3"
  },
  "language_info": {
   "codemirror_mode": {
    "name": "ipython",
    "version": 3
   },
   "file_extension": ".py",
   "mimetype": "text/x-python",
   "name": "python",
   "nbconvert_exporter": "python",
   "pygments_lexer": "ipython3",
   "version": "3.12.3"
  }
 },
 "nbformat": 4,
 "nbformat_minor": 2
}
